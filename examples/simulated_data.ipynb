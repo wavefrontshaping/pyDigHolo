{
 "cells": [
  {
   "cell_type": "markdown",
   "metadata": {},
   "source": [
    "# Example with test images automatically generated\n",
    "This example is a simple transposition of the one provided with digHolo but using the pyDigHolo module."
   ]
  },
  {
   "cell_type": "code",
   "execution_count": 1,
   "metadata": {},
   "outputs": [],
   "source": [
    "import numpy as np\n",
    "import matplotlib.pyplot as plt\n",
    "from pyDigHolo import digHolo"
   ]
  },
  {
   "cell_type": "code",
   "execution_count": 13,
   "metadata": {
    "ExecuteTime": {
     "end_time": "2022-07-22T12:21:29.937115Z",
     "start_time": "2022-07-22T12:21:27.201915Z"
    }
   },
   "outputs": [
    {
     "name": "stdout",
     "output_type": "stream",
     "text": [
      "Requirement already satisfied: wurlitzer in /opt/miniconda/envs/py38/lib/python3.8/site-packages (3.0.2)\n",
      "Note: you may need to restart the kernel to use updated packages.\n"
     ]
    }
   ],
   "source": [
    "# %pip install wurlitzer\n",
    "# %load_ext wurlitzer"
   ]
  },
  {
   "cell_type": "markdown",
   "metadata": {},
   "source": [
    "## Path of digHolo ```.dll``` or ```.so```"
   ]
  },
  {
   "cell_type": "code",
   "execution_count": 3,
   "metadata": {},
   "outputs": [],
   "source": [
    "dll_path = \"/path/to/libdigholo.dll|so\"\n",
    "import os\n",
    "dll_path = os.path.abspath(\"../digHolo/libdigholo.so\")"
   ]
  },
  {
   "cell_type": "markdown",
   "metadata": {},
   "source": [
    "## Load pyDigHolo module"
   ]
  },
  {
   "cell_type": "code",
   "execution_count": 4,
   "metadata": {},
   "outputs": [],
   "source": [
    "dh = digHolo(dll_path)\n",
    "# Redirect console to file\n",
    "# dh.RedirectConsole('digholo.log')"
   ]
  },
  {
   "cell_type": "code",
   "execution_count": 34,
   "metadata": {},
   "outputs": [],
   "source": [
    "#Number of camera frames\n",
    "#frameCount = frameBuffer.shape[0]\n",
    "frameCount = 45\n",
    "batchCount = frameCount\n",
    "\n",
    "#Width/height of camera frames\n",
    "frameWidth = 320\n",
    "frameHeight = 256\n",
    "#frameWidth = frameBuffer.shape[2]\n",
    "#frameHeight = frameBuffer.shape[1]\n",
    "\n",
    "#Camera pixel size (microns)\n",
    "pixelSize = 20e-6\n",
    "\n",
    "#Centre wavelength (nanometres)\n",
    "lambda0 = 1565e-9\n",
    "\n",
    "#Polarisation components per frame\n",
    "polCount = 2\n",
    "\n",
    "#Width/height of window to FFT on the camera. (pixels)\n",
    "nx = 128\n",
    "ny = 128\n",
    "\n",
    "#Amount of detail to print to console. 0: Console off. 1: Basic info. 2:Debug mode. 3: You've got serious issues\n",
    "verbosity = 2\n",
    "\n",
    "#Sets the resolution mode of the reconstructed field.\n",
    "#0 : Full resolution. Reconstructed field will have same pixel\n",
    "#size/dimensions as the FFT window.\n",
    "#1 : Low resolution. Reconstructed field will have dimension of the IFFT\n",
    "#window. \n",
    "resolutionMode = 1\n",
    "\n",
    "#Specifies the number of HG mode groups to decompose the beams in.\n",
    "#Total modes = sum(1:maxMG). maxMG=1->1 mode, maxMG=9->45 modes.\n",
    "maxMG = 9"
   ]
  },
  {
   "cell_type": "markdown",
   "metadata": {},
   "source": [
    "## Generate frames"
   ]
  },
  {
   "cell_type": "code",
   "execution_count": 35,
   "metadata": {},
   "outputs": [],
   "source": [
    "frames = dh.FrameSimulatorCreateSimple( \n",
    "        frameCount, \n",
    "        frameWidth, \n",
    "        frameHeight, \n",
    "        pixelSize,\n",
    "        lambda0, \n",
    "        polCount, \n",
    "        dataType = 'Python')"
   ]
  },
  {
   "cell_type": "code",
   "execution_count": 12,
   "metadata": {},
   "outputs": [
    {
     "data": {
      "text/plain": [
       "<matplotlib.image.AxesImage at 0x7fc9536c5e80>"
      ]
     },
     "execution_count": 12,
     "metadata": {},
     "output_type": "execute_result"
    },
    {
     "data": {
      "image/png": "[encoded data removed]",
      "text/plain": [
       "<Figure size 1008x432 with 1 Axes>"
      ]
     },
     "metadata": {
      "needs_background": "light"
     },
     "output_type": "display_data"
    }
   ],
   "source": [
    "ind = 0\n",
    "\n",
    "plt.figure(figsize=(14,6))\n",
    "plt.imshow(frames[ind])"
   ]
  },
  {
   "cell_type": "markdown",
   "metadata": {},
   "source": [
    "## Configure off-axis"
   ]
  },
  {
   "cell_type": "code",
   "execution_count": 13,
   "metadata": {},
   "outputs": [],
   "source": [
    "dh.ConfigOffAxis(\n",
    "    [frameWidth, frameHeight],\n",
    "    [nx, ny],\n",
    "    resolutionMode,  \n",
    "    pixelSize,\n",
    "    lambda0,\n",
    "    maxMG,\n",
    "    polCount\n",
    ")"
   ]
  },
  {
   "cell_type": "markdown",
   "metadata": {},
   "source": [
    "## Configure Auto-align"
   ]
  },
  {
   "cell_type": "code",
   "execution_count": 17,
   "metadata": {},
   "outputs": [],
   "source": [
    "dh.ConfigSetAutoAlign(\n",
    "    enable_align_beam_centre=True,\n",
    "    enable_align_defocus=True,\n",
    "    enable_align_tilt=True,\n",
    "    enable_align_basis_waist=True,\n",
    "    enable_align_fourier_win_radius=True,\n",
    ")\n",
    "# We choose here to fix the FFT window radius to a chosen value\n",
    "dh.SetFourierWindowRadius(0.15)"
   ]
  },
  {
   "cell_type": "markdown",
   "metadata": {},
   "source": [
    "## Perform auto-calibration and retrieve resulting fields"
   ]
  },
  {
   "cell_type": "code",
   "execution_count": 18,
   "metadata": {},
   "outputs": [
    {
     "name": "stdout",
     "output_type": "stream",
     "text": [
      "45\n"
     ]
    }
   ],
   "source": [
    "dh.SetBatch(frameCount, frames, dataType = 'Python')\n",
    "dh.AutoAlign()\n",
    "cpx_imgs = dh.GetFields()"
   ]
  },
  {
   "cell_type": "markdown",
   "metadata": {},
   "source": [
    "## Show the calibration parameters"
   ]
  },
  {
   "cell_type": "code",
   "execution_count": 19,
   "metadata": {},
   "outputs": [
    {
     "name": "stdout",
     "output_type": "stream",
     "text": [
      "1.9999999494757503e-05\n",
      "1.565000047776266e-06\n",
      "0.15043656527996063\n",
      "[-0.0016737456899136305, 1.0164076229557395e-05]\n",
      "0.0022395551204681396\n",
      "[0.8231673240661621, 0.014314031228423119]\n"
     ]
    }
   ],
   "source": [
    "print(dh.GetFramePixelSize())\n",
    "print(dh.GetWavelengthCentre())\n",
    "print(dh.GetFourierWindowRadius())\n",
    "print(dh.GetBeamCentre())\n",
    "print(dh.GetDefocus())\n",
    "print(dh.GetTilt())\n"
   ]
  },
  {
   "cell_type": "markdown",
   "metadata": {},
   "source": [
    "## Display the recovered complex fields"
   ]
  },
  {
   "cell_type": "code",
   "execution_count": 21,
   "metadata": {},
   "outputs": [
    {
     "data": {
      "text/plain": [
       "<matplotlib.image.AxesImage at 0x7fc953e2f3a0>"
      ]
     },
     "execution_count": 21,
     "metadata": {},
     "output_type": "execute_result"
    },
    {
     "data": {
      "image/png": "[encoded data removed]",
      "text/plain": [
       "<Figure size 720x720 with 2 Axes>"
      ]
     },
     "metadata": {
      "needs_background": "light"
     },
     "output_type": "display_data"
    }
   ],
   "source": [
    "ind = 0\n",
    "\n",
    "plt.figure(figsize=(10,10))\n",
    "plt.subplot(121)\n",
    "plt.imshow(np.abs(cpx_imgs[ind]))\n",
    "plt.axis('off')\n",
    "plt.title('digHolo: amplitude')\n",
    "plt.subplot(122)\n",
    "plt.imshow(np.angle(cpx_imgs[ind]), cmap = 'hsv')"
   ]
  },
  {
   "cell_type": "code",
   "execution_count": 9,
   "metadata": {
    "ExecuteTime": {
     "end_time": "2022-07-22T12:21:15.272582Z",
     "start_time": "2022-07-22T12:21:15.265845Z"
    }
   },
   "outputs": [
    {
     "data": {
      "text/plain": [
       "1"
      ]
     },
     "execution_count": 9,
     "metadata": {},
     "output_type": "execute_result"
    }
   ],
   "source": [
    "import ctypes\n",
    "libc = ctypes.CDLL('libc.so.6')\n",
    "\n",
    "# print('This text gets captured by myStdOut')\n",
    "libc.printf('This text fails to be captured by myStdOut')"
   ]
  },
  {
   "cell_type": "code",
   "execution_count": 10,
   "metadata": {
    "ExecuteTime": {
     "end_time": "2022-07-22T12:21:15.667335Z",
     "start_time": "2022-07-22T12:21:15.654818Z"
    }
   },
   "outputs": [
    {
     "name": "stdout",
     "output_type": "stream",
     "text": [
      " \b"
     ]
    },
    {
     "data": {
      "text/plain": [
       "1"
      ]
     },
     "execution_count": 10,
     "metadata": {},
     "output_type": "execute_result"
    }
   ],
   "source": [
    "import os, sys, select\n",
    "\n",
    "# the pipe would fail for some reason if I didn't write to stdout at some point\n",
    "# so I write a space, then backspace (will show as empty in a normal terminal)\n",
    "sys.stdout.write(' \\b')\n",
    "pipe_out, pipe_in = os.pipe()\n",
    "# save a copy of stdout\n",
    "stdout = os.dup(1)\n",
    "# replace stdout with our write pipe\n",
    "os.dup2(pipe_in, 1)"
   ]
  },
  {
   "cell_type": "code",
   "execution_count": 15,
   "metadata": {
    "ExecuteTime": {
     "end_time": "2022-07-22T12:21:36.653429Z",
     "start_time": "2022-07-22T12:21:36.639409Z"
    }
   },
   "outputs": [
    {
     "data": {
      "text/plain": [
       "1"
      ]
     },
     "execution_count": 15,
     "metadata": {},
     "output_type": "execute_result"
    },
    {
     "name": "stdout",
     "output_type": "stream",
     "text": [
      "T"
     ]
    }
   ],
   "source": [
    "libc.printf('This text fails to be captured by myStdOut')\n"
   ]
  },
  {
   "cell_type": "code",
   "execution_count": 14,
   "metadata": {
    "ExecuteTime": {
     "end_time": "2022-07-22T12:21:34.847062Z",
     "start_time": "2022-07-22T12:21:34.837655Z"
    }
   },
   "outputs": [],
   "source": [
    "from wurlitzer import pipes, sys_pipes, STDOUT, PIPE\n",
    "with pipes() as (stdout, stderr):\n",
    "    libc.printf('This text fails to be captured by myStdOut')"
   ]
  },
  {
   "cell_type": "code",
   "execution_count": 12,
   "metadata": {},
   "outputs": [
    {
     "name": "stdout",
     "output_type": "stream",
     "text": [
      "[NbConvertApp] Converting notebook simulated_data.ipynb to python\n",
      "[NbConvertApp] Writing 3941 bytes to simulated_data.py\n"
     ]
    }
   ],
   "source": [
    "!jupyter nbconvert --to python simulated_data.ipynb"
   ]
  }
 ],
 "metadata": {
  "kernelspec": {
   "display_name": "Python 3 (ipykernel)",
   "language": "python",
   "name": "python3"
  },
  "language_info": {
   "codemirror_mode": {
    "name": "ipython",
    "version": 3
   },
   "file_extension": ".py",
   "mimetype": "text/x-python",
   "name": "python",
   "nbconvert_exporter": "python",
   "pygments_lexer": "ipython3",
   "version": "3.8.0"
  },
  "toc": {
   "base_numbering": 1,
   "nav_menu": {},
   "number_sections": true,
   "sideBar": true,
   "skip_h1_title": false,
   "title_cell": "Table of Contents",
   "title_sidebar": "Contents",
   "toc_cell": false,
   "toc_position": {},
   "toc_section_display": true,
   "toc_window_display": false
  },
  "varInspector": {
   "cols": {
    "lenName": 16,
    "lenType": 16,
    "lenVar": 40
   },
   "kernels_config": {
    "python": {
     "delete_cmd_postfix": "",
     "delete_cmd_prefix": "del ",
     "library": "var_list.py",
     "varRefreshCmd": "print(var_dic_list())"
    },
    "r": {
     "delete_cmd_postfix": ") ",
     "delete_cmd_prefix": "rm(",
     "library": "var_list.r",
     "varRefreshCmd": "cat(var_dic_list()) "
    }
   },
   "types_to_exclude": [
    "module",
    "function",
    "builtin_function_or_method",
    "instance",
    "_Feature"
   ],
   "window_display": false
  },
  "vscode": {
   "interpreter": {
    "hash": "850695e8eae4dcb920c5cdc158ac187a95114fb8c3cbdb8cde477a4ef0d42fe7"
   }
  }
 },
 "nbformat": 4,
 "nbformat_minor": 2
}
