{
 "cells": [
  {
   "cell_type": "markdown",
   "metadata": {},
   "source": [
    "# Example with test images automatically generated\n",
    "This example is a simple transposition of the one provided with digHolo but using the pyDigHolo module."
   ]
  },
  {
   "cell_type": "code",
   "execution_count": 13,
   "metadata": {},
   "outputs": [],
   "source": [
    "import numpy as np\n",
    "import matplotlib.pyplot as plt\n",
    "from pyDigHolo import digHolo\n",
    "from functions import colorize"
   ]
  },
  {
   "cell_type": "markdown",
   "metadata": {},
   "source": [
    "## Path of digHolo ```.dll``` or ```.so```"
   ]
  },
  {
   "cell_type": "code",
   "execution_count": 2,
   "metadata": {},
   "outputs": [],
   "source": [
    "# dll_path = \"/path/to/libdigholo.dll|so\"\n",
    "dll_path = \"./digHolo.dll\""
   ]
  },
  {
   "cell_type": "markdown",
   "metadata": {},
   "source": [
    "## Load pyDigHolo module"
   ]
  },
  {
   "cell_type": "code",
   "execution_count": 3,
   "metadata": {},
   "outputs": [],
   "source": [
    "dh = digHolo(dll_path)\n",
    "# Redirect console to file\n",
    "# dh.RedirectConsole('digholo.log')"
   ]
  },
  {
   "cell_type": "code",
   "execution_count": 4,
   "metadata": {},
   "outputs": [],
   "source": [
    "#Number of camera frames\n",
    "#frameCount = frameBuffer.shape[0]\n",
    "frameCount = 45\n",
    "batchCount = frameCount\n",
    "\n",
    "#Width/height of camera frames\n",
    "frameWidth = 320\n",
    "frameHeight = 256\n",
    "#frameWidth = frameBuffer.shape[2]\n",
    "#frameHeight = frameBuffer.shape[1]\n",
    "\n",
    "#Camera pixel size (microns)\n",
    "pixelSize = 20e-6\n",
    "\n",
    "#Centre wavelength (nanometres)\n",
    "lambda0 = 1565e-9\n",
    "\n",
    "#Polarisation components per frame\n",
    "polCount = 2\n",
    "\n",
    "#Width/height of window to FFT on the camera. (pixels)\n",
    "nx = 128\n",
    "ny = 128\n",
    "\n",
    "#Amount of detail to print to console. 0: Console off. 1: Basic info. 2:Debug mode. 3: You've got serious issues\n",
    "verbosity = 2\n",
    "\n",
    "#Sets the resolution mode of the reconstructed field.\n",
    "#0 : Full resolution. Reconstructed field will have same pixel\n",
    "#size/dimensions as the FFT window.\n",
    "#1 : Low resolution. Reconstructed field will have dimension of the IFFT\n",
    "#window. \n",
    "resolutionMode = 1\n",
    "\n",
    "#Specifies the number of HG mode groups to decompose the beams in.\n",
    "#Total modes = sum(1:maxMG). maxMG=1->1 mode, maxMG=9->45 modes.\n",
    "maxMG = 9"
   ]
  },
  {
   "cell_type": "markdown",
   "metadata": {},
   "source": [
    "## Generate frames"
   ]
  },
  {
   "cell_type": "code",
   "execution_count": 5,
   "metadata": {},
   "outputs": [],
   "source": [
    "frames = dh.FrameSimulatorCreateSimple( \n",
    "        frameCount, \n",
    "        frameWidth, \n",
    "        frameHeight, \n",
    "        pixelSize,\n",
    "        lambda0, \n",
    "        polCount, \n",
    "        dataType = 'Python')"
   ]
  },
  {
   "cell_type": "code",
   "execution_count": 6,
   "metadata": {},
   "outputs": [
    {
     "data": {
      "text/plain": [
       "<matplotlib.image.AxesImage at 0x2321ba6f310>"
      ]
     },
     "execution_count": 6,
     "metadata": {},
     "output_type": "execute_result"
    },
    {
     "data": {
      "image/png": "[encoded data removed]",
      "text/plain": [
       "<Figure size 1008x432 with 1 Axes>"
      ]
     },
     "metadata": {
      "needs_background": "light"
     },
     "output_type": "display_data"
    }
   ],
   "source": [
    "ind = 0\n",
    "\n",
    "plt.figure(figsize=(14,6))\n",
    "plt.imshow(frames[ind])"
   ]
  },
  {
   "cell_type": "markdown",
   "metadata": {},
   "source": [
    "## Configure off-axis"
   ]
  },
  {
   "cell_type": "code",
   "execution_count": 7,
   "metadata": {},
   "outputs": [],
   "source": [
    "dh.ConfigOffAxis(\n",
    "    [frameWidth, frameHeight],\n",
    "    [nx, ny],\n",
    "    resolutionMode,  \n",
    "    pixelSize,\n",
    "    lambda0,\n",
    "    maxMG,\n",
    "    polCount\n",
    ")"
   ]
  },
  {
   "cell_type": "markdown",
   "metadata": {},
   "source": [
    "## Configure Auto-align"
   ]
  },
  {
   "cell_type": "code",
   "execution_count": 8,
   "metadata": {},
   "outputs": [],
   "source": [
    "dh.ConfigSetAutoAlign(\n",
    "    enable_align_beam_centre=True,\n",
    "    enable_align_defocus=True,\n",
    "    enable_align_tilt=True,\n",
    "    enable_align_basis_waist=True,\n",
    "    enable_align_fourier_win_radius=True,\n",
    ")\n",
    "# We choose here to fix the FFT window radius to a chosen value\n",
    "dh.SetFourierWindowRadius(0.15)"
   ]
  },
  {
   "cell_type": "markdown",
   "metadata": {},
   "source": [
    "## Perform auto-calibration and retrieve resulting fields"
   ]
  },
  {
   "cell_type": "code",
   "execution_count": 9,
   "metadata": {},
   "outputs": [
    {
     "name": "stdout",
     "output_type": "stream",
     "text": [
      "45\n"
     ]
    }
   ],
   "source": [
    "dh.SetBatch(frameCount, frames, dataType = 'Python')\n",
    "dh.AutoAlign()\n",
    "cpx_imgs = dh.GetFields()"
   ]
  },
  {
   "cell_type": "markdown",
   "metadata": {},
   "source": [
    "## Show the calibration parameters"
   ]
  },
  {
   "cell_type": "code",
   "execution_count": 10,
   "metadata": {},
   "outputs": [
    {
     "name": "stdout",
     "output_type": "stream",
     "text": [
      "1.9999999494757503e-05\n",
      "1.565000047776266e-06\n",
      "0.7033793330192566\n",
      "[-0.0016000046161934733, -5.781611300825773e-10]\n",
      "-0.0003625154495239258\n",
      "[1.5232495069503784, -1.5231757164001465]\n"
     ]
    }
   ],
   "source": [
    "print(dh.GetFramePixelSize())\n",
    "print(dh.GetWavelengthCentre())\n",
    "print(dh.GetFourierWindowRadius())\n",
    "print(dh.GetBeamCentre())\n",
    "print(dh.GetDefocus())\n",
    "print(dh.GetTilt())\n"
   ]
  },
  {
   "cell_type": "markdown",
   "metadata": {},
   "source": [
    "## Display the recovered complex fields"
   ]
  },
  {
   "cell_type": "code",
   "execution_count": 15,
   "metadata": {},
   "outputs": [
    {
     "data": {
      "text/plain": [
       "(-0.5, 95.5, 47.5, -0.5)"
      ]
     },
     "execution_count": 15,
     "metadata": {},
     "output_type": "execute_result"
    },
    {
     "data": {
      "image/png": "[encoded data removed]",
      "text/plain": [
       "<Figure size 720x720 with 1 Axes>"
      ]
     },
     "metadata": {
      "needs_background": "light"
     },
     "output_type": "display_data"
    }
   ],
   "source": [
    "ind = 10\n",
    "\n",
    "plt.figure(figsize=(10,10))\n",
    "plt.subplot(121)\n",
    "plt.imshow(colorize(cpx_imgs[ind]))\n",
    "plt.axis('off')\n"
   ]
  }
 ],
 "metadata": {
  "kernelspec": {
   "display_name": "Python 3.8.0 ('py38')",
   "language": "python",
   "name": "python3"
  },
  "language_info": {
   "codemirror_mode": {
    "name": "ipython",
    "version": 3
   },
   "file_extension": ".py",
   "mimetype": "text/x-python",
   "name": "python",
   "nbconvert_exporter": "python",
   "pygments_lexer": "ipython3",
   "version": "3.8.0"
  },
  "toc": {
   "base_numbering": 1,
   "nav_menu": {},
   "number_sections": true,
   "sideBar": true,
   "skip_h1_title": false,
   "title_cell": "Table of Contents",
   "title_sidebar": "Contents",
   "toc_cell": false,
   "toc_position": {},
   "toc_section_display": true,
   "toc_window_display": false
  },
  "varInspector": {
   "cols": {
    "lenName": 16,
    "lenType": 16,
    "lenVar": 40
   },
   "kernels_config": {
    "python": {
     "delete_cmd_postfix": "",
     "delete_cmd_prefix": "del ",
     "library": "var_list.py",
     "varRefreshCmd": "print(var_dic_list())"
    },
    "r": {
     "delete_cmd_postfix": ") ",
     "delete_cmd_prefix": "rm(",
     "library": "var_list.r",
     "varRefreshCmd": "cat(var_dic_list()) "
    }
   },
   "types_to_exclude": [
    "module",
    "function",
    "builtin_function_or_method",
    "instance",
    "_Feature"
   ],
   "window_display": false
  },
  "vscode": {
   "interpreter": {
    "hash": "24fed5b1c2c253600310290c00890f23e0057034fdf30fca89b41eda0170e940"
   }
  }
 },
 "nbformat": 4,
 "nbformat_minor": 2
}
